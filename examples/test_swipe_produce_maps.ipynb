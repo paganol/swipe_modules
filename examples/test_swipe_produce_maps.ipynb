{
 "cells": [
  {
   "cell_type": "code",
   "execution_count": 1,
   "id": "651f88a9",
   "metadata": {},
   "outputs": [],
   "source": [
    "import litebird_sim as lbs\n",
    "import numpy as np\n",
    "from swipe_modules import SwipeSpinScanningStrategy\n",
    "import matplotlib.pyplot as plt\n",
    "import healpy as hp"
   ]
  },
  {
   "cell_type": "code",
   "execution_count": 2,
   "id": "ab61ca98",
   "metadata": {},
   "outputs": [],
   "source": [
    "sim = lbs.Simulation(\n",
    "    start_time=0,\n",
    "    duration_s=36*3600,\n",
    "    description=\"SWIPE simulation\",\n",
    "    random_seed=12345,\n",
    ")"
   ]
  },
  {
   "cell_type": "code",
   "execution_count": 3,
   "id": "d9822e90",
   "metadata": {},
   "outputs": [
    {
     "name": "stdout",
     "output_type": "stream",
     "text": [
      "site_latitude_deg, site_longitude_deg and longitude_speed_deg_per_sec used\n"
     ]
    }
   ],
   "source": [
    "sim.set_scanning_strategy(SwipeSpinScanningStrategy(),delta_time_s=1)"
   ]
  },
  {
   "cell_type": "code",
   "execution_count": 4,
   "id": "54f03e58",
   "metadata": {},
   "outputs": [],
   "source": [
    "instr = lbs.InstrumentInfo(\n",
    "    name=\"swipe\",\n",
    "    spin_boresight_angle_rad=np.deg2rad(40),\n",
    ")\n",
    "sim.set_instrument(instr)\n",
    "\n",
    "sampling_hz = 60\n",
    "hwp_radpsec = 2*np.pi\n",
    "nside = 256"
   ]
  },
  {
   "cell_type": "code",
   "execution_count": 5,
   "id": "59d90012",
   "metadata": {},
   "outputs": [],
   "source": [
    "det0 = lbs.DetectorInfo(\n",
    "    name=\"Boresight_detector_0\",\n",
    "    sampling_rate_hz=sampling_hz,\n",
    "    bandcenter_ghz=145.0,\n",
    "    quat=[0.0, 0.0, 0.0, 1.0],\n",
    "    fwhm_arcmin = 60.0,\n",
    "    net_ukrts = 12.6999998,\n",
    ")\n",
    "\n",
    "det1 = lbs.DetectorInfo(\n",
    "    name=\"Boresight_detector_1\",\n",
    "    sampling_rate_hz=sampling_hz,\n",
    "    bandcenter_ghz=145.0,\n",
    "    quat=[0.0, 0.0, 1.0 / np.sqrt(2.0), 1.0 / np.sqrt(2.0)],\n",
    "    fwhm_arcmin = 60.0,\n",
    "    net_ukrts = 12.6999998,\n",
    ")"
   ]
  },
  {
   "cell_type": "code",
   "execution_count": 6,
   "id": "c2522cb9",
   "metadata": {},
   "outputs": [],
   "source": [
    "obs, = sim.create_observations(detectors=[det0,det1])\n",
    "sim.set_hwp(lbs.IdealHWP(hwp_radpsec))\n",
    "sim.prepare_pointings()\n",
    "sim.precompute_pointings()"
   ]
  },
  {
   "cell_type": "code",
   "execution_count": 7,
   "id": "661a2a41",
   "metadata": {},
   "outputs": [],
   "source": [
    "Mbsparams = lbs.MbsParameters(make_cmb =True,\n",
    "                              make_fg = True,\n",
    "                              fg_models=[\"pysm_ame_1\",\"pysm_synch_0\", \"pysm_freefree_1\",\"pysm_synch_0\"],\n",
    "                              gaussian_smooth = True,\n",
    "                              bandpass_int = False,\n",
    "                              nside = nside,\n",
    "                             )"
   ]
  },
  {
   "cell_type": "code",
   "execution_count": 8,
   "id": "3bf756a2",
   "metadata": {},
   "outputs": [],
   "source": [
    "mbs = lbs.Mbs(simulation=sim,\n",
    "              parameters=Mbsparams,\n",
    "              detector_list=[det0,det1],\n",
    "             )"
   ]
  },
  {
   "cell_type": "code",
   "execution_count": 9,
   "id": "99121daf",
   "metadata": {},
   "outputs": [
    {
     "name": "stderr",
     "output_type": "stream",
     "text": [
      "[2024-08-08 13:31:46,933 INFO MPI#0000] generating and saving cmb simulations\n",
      "[2024-08-08 13:31:46,971 INFO MPI#0000] Sigma is 0.000000 arcmin (0.000000 rad) \n",
      "[2024-08-08 13:31:46,972 INFO MPI#0000] -> fwhm is 0.000000 arcmin\n",
      "[2024-08-08 13:31:47,042 INFO MPI#0000] Access data from /Users/luca/Documents/Universita/LSPE/dev_swipe_modules/swipe_modules/examples/cmb/0000/cmb_0000_date_240808.fits\n",
      "[2024-08-08 13:31:47,043 INFO MPI#0000] NSIDE = 256\n",
      "[2024-08-08 13:31:47,043 INFO MPI#0000] ORDERING = RING in fits file\n",
      "[2024-08-08 13:31:47,044 INFO MPI#0000] INDXSCHM = IMPLICIT\n",
      "[2024-08-08 13:31:47,308 INFO MPI#0000] Sigma is 25.479654 arcmin (0.007412 rad) \n",
      "[2024-08-08 13:31:47,308 INFO MPI#0000] -> fwhm is 60.000000 arcmin\n",
      "[2024-08-08 13:31:47,311 INFO MPI#0000] Sigma is 0.000000 arcmin (0.000000 rad) \n",
      "[2024-08-08 13:31:47,312 INFO MPI#0000] -> fwhm is 0.000000 arcmin\n",
      "[2024-08-08 13:31:47,551 INFO MPI#0000] Sigma is 25.479654 arcmin (0.007412 rad) \n",
      "[2024-08-08 13:31:47,551 INFO MPI#0000] -> fwhm is 60.000000 arcmin\n",
      "[2024-08-08 13:31:47,554 INFO MPI#0000] Sigma is 0.000000 arcmin (0.000000 rad) \n",
      "[2024-08-08 13:31:47,555 INFO MPI#0000] -> fwhm is 0.000000 arcmin\n",
      "[2024-08-08 13:31:47,592 INFO MPI#0000] generating and saving fg simulations\n",
      "[2024-08-08 13:31:47,593 INFO MPI#0000] Retrieve data for pysm_2/ame_t_new.fits (if not cached already)\n",
      "[2024-08-08 13:31:47,607 INFO MPI#0000] NSIDE = 512\n",
      "[2024-08-08 13:31:47,607 INFO MPI#0000] ORDERING = RING in fits file\n",
      "[2024-08-08 13:31:47,608 INFO MPI#0000] INDXSCHM = IMPLICIT\n",
      "[2024-08-08 13:31:47,676 INFO MPI#0000] Retrieve data for pysm_2/ame_nu_peak_0.fits (if not cached already)\n",
      "[2024-08-08 13:31:47,678 INFO MPI#0000] NSIDE = 512\n",
      "[2024-08-08 13:31:47,679 INFO MPI#0000] ORDERING = RING in fits file\n",
      "[2024-08-08 13:31:47,679 INFO MPI#0000] INDXSCHM = IMPLICIT\n",
      "[2024-08-08 13:31:47,743 INFO MPI#0000] Retrieve data for pysm_2/emissivity.txt (if not cached already)\n",
      "[2024-08-08 13:31:47,745 INFO MPI#0000] Retrieve data for pysm_2/ame2_t_new.fits (if not cached already)\n",
      "[2024-08-08 13:31:47,746 INFO MPI#0000] NSIDE = 512\n",
      "[2024-08-08 13:31:47,747 INFO MPI#0000] ORDERING = RING in fits file\n",
      "[2024-08-08 13:31:47,747 INFO MPI#0000] INDXSCHM = IMPLICIT\n",
      "[2024-08-08 13:31:47,809 INFO MPI#0000] Retrieve data for pysm_2/emissivity.txt (if not cached already)\n",
      "[2024-08-08 13:31:49,698 INFO MPI#0000] Sigma is 25.479654 arcmin (0.007412 rad) \n",
      "[2024-08-08 13:31:49,698 INFO MPI#0000] -> fwhm is 60.000000 arcmin\n",
      "[2024-08-08 13:31:49,702 INFO MPI#0000] Sigma is 0.000000 arcmin (0.000000 rad) \n",
      "[2024-08-08 13:31:49,702 INFO MPI#0000] -> fwhm is 0.000000 arcmin\n",
      "[2024-08-08 13:31:49,969 INFO MPI#0000] Sigma is 25.479654 arcmin (0.007412 rad) \n",
      "[2024-08-08 13:31:49,969 INFO MPI#0000] -> fwhm is 60.000000 arcmin\n",
      "[2024-08-08 13:31:49,972 INFO MPI#0000] Sigma is 0.000000 arcmin (0.000000 rad) \n",
      "[2024-08-08 13:31:49,972 INFO MPI#0000] -> fwhm is 0.000000 arcmin\n",
      "[2024-08-08 13:31:50,003 INFO MPI#0000] Retrieve data for pysm_2/synch_t_new.fits (if not cached already)\n",
      "[2024-08-08 13:31:50,004 INFO MPI#0000] NSIDE = 512\n",
      "[2024-08-08 13:31:50,005 INFO MPI#0000] ORDERING = RING in fits file\n",
      "[2024-08-08 13:31:50,005 INFO MPI#0000] INDXSCHM = IMPLICIT\n",
      "[2024-08-08 13:31:50,070 INFO MPI#0000] Retrieve data for pysm_2/synch_q_new.fits (if not cached already)\n",
      "[2024-08-08 13:31:50,071 INFO MPI#0000] NSIDE = 512\n",
      "[2024-08-08 13:31:50,072 INFO MPI#0000] ORDERING = RING in fits file\n",
      "[2024-08-08 13:31:50,072 INFO MPI#0000] INDXSCHM = IMPLICIT\n",
      "[2024-08-08 13:31:50,137 INFO MPI#0000] Retrieve data for pysm_2/synch_u_new.fits (if not cached already)\n",
      "[2024-08-08 13:31:50,139 INFO MPI#0000] NSIDE = 512\n",
      "[2024-08-08 13:31:50,139 INFO MPI#0000] ORDERING = RING in fits file\n",
      "[2024-08-08 13:31:50,139 INFO MPI#0000] INDXSCHM = IMPLICIT\n",
      "[2024-08-08 13:31:50,706 INFO MPI#0000] Sigma is 25.479654 arcmin (0.007412 rad) \n",
      "[2024-08-08 13:31:50,706 INFO MPI#0000] -> fwhm is 60.000000 arcmin\n",
      "[2024-08-08 13:31:50,709 INFO MPI#0000] Sigma is 0.000000 arcmin (0.000000 rad) \n",
      "[2024-08-08 13:31:50,709 INFO MPI#0000] -> fwhm is 0.000000 arcmin\n",
      "[2024-08-08 13:31:50,941 INFO MPI#0000] Sigma is 25.479654 arcmin (0.007412 rad) \n",
      "[2024-08-08 13:31:50,941 INFO MPI#0000] -> fwhm is 60.000000 arcmin\n",
      "[2024-08-08 13:31:50,945 INFO MPI#0000] Sigma is 0.000000 arcmin (0.000000 rad) \n",
      "[2024-08-08 13:31:50,945 INFO MPI#0000] -> fwhm is 0.000000 arcmin\n",
      "[2024-08-08 13:31:50,979 INFO MPI#0000] Retrieve data for pysm_2/ff_t_new.fits (if not cached already)\n",
      "[2024-08-08 13:31:50,980 INFO MPI#0000] NSIDE = 512\n",
      "[2024-08-08 13:31:50,981 INFO MPI#0000] ORDERING = RING in fits file\n",
      "[2024-08-08 13:31:50,981 INFO MPI#0000] INDXSCHM = IMPLICIT\n",
      "[2024-08-08 13:31:51,504 INFO MPI#0000] Sigma is 25.479654 arcmin (0.007412 rad) \n",
      "[2024-08-08 13:31:51,505 INFO MPI#0000] -> fwhm is 60.000000 arcmin\n",
      "[2024-08-08 13:31:51,507 INFO MPI#0000] Sigma is 0.000000 arcmin (0.000000 rad) \n",
      "[2024-08-08 13:31:51,507 INFO MPI#0000] -> fwhm is 0.000000 arcmin\n",
      "[2024-08-08 13:31:51,741 INFO MPI#0000] Sigma is 25.479654 arcmin (0.007412 rad) \n",
      "[2024-08-08 13:31:51,741 INFO MPI#0000] -> fwhm is 60.000000 arcmin\n",
      "[2024-08-08 13:31:51,744 INFO MPI#0000] Sigma is 0.000000 arcmin (0.000000 rad) \n",
      "[2024-08-08 13:31:51,745 INFO MPI#0000] -> fwhm is 0.000000 arcmin\n"
     ]
    }
   ],
   "source": [
    "in_map = mbs.run_all()[0]"
   ]
  },
  {
   "cell_type": "code",
   "execution_count": 10,
   "id": "3859779e",
   "metadata": {},
   "outputs": [],
   "source": [
    "sim.fill_tods(in_map)"
   ]
  },
  {
   "cell_type": "code",
   "execution_count": 11,
   "id": "57a784f0",
   "metadata": {},
   "outputs": [],
   "source": [
    "sim.add_noise(sim.random,\"white\")"
   ]
  },
  {
   "cell_type": "code",
   "execution_count": 12,
   "id": "4b24845d",
   "metadata": {},
   "outputs": [],
   "source": [
    "results = sim.make_binned_map(nside)"
   ]
  },
  {
   "cell_type": "code",
   "execution_count": null,
   "id": "439d0ac5",
   "metadata": {},
   "outputs": [],
   "source": [
    "plt.figure(figsize=(20,7))\n",
    "hp.mollview(results.binned_map[0],sub=131,title='T')\n",
    "hp.mollview(results.binned_map[1],sub=132,title='Q')\n",
    "hp.mollview(results.binned_map[2],sub=133,title='U')"
   ]
  },
  {
   "cell_type": "code",
   "execution_count": null,
   "id": "348ba140",
   "metadata": {},
   "outputs": [],
   "source": [
    "plt.figure(figsize=(20,7))\n",
    "hp.mollview(results.binned_map[0]-in_map['Boresight_detector_0'][0],sub=131,title='T')\n",
    "hp.mollview(results.binned_map[1]-in_map['Boresight_detector_0'][1],sub=132,title='Q')\n",
    "hp.mollview(results.binned_map[2]-in_map['Boresight_detector_0'][2],sub=133,title='U')"
   ]
  },
  {
   "cell_type": "code",
   "execution_count": null,
   "id": "628673c1",
   "metadata": {},
   "outputs": [],
   "source": []
  }
 ],
 "metadata": {
  "kernelspec": {
   "display_name": "Python 3 (ipykernel)",
   "language": "python",
   "name": "python3"
  },
  "language_info": {
   "codemirror_mode": {
    "name": "ipython",
    "version": 3
   },
   "file_extension": ".py",
   "mimetype": "text/x-python",
   "name": "python",
   "nbconvert_exporter": "python",
   "pygments_lexer": "ipython3",
   "version": "3.9.19"
  }
 },
 "nbformat": 4,
 "nbformat_minor": 5
}
